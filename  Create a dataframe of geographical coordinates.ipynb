{
 "cells": [
  {
   "cell_type": "markdown",
   "metadata": {},
   "source": [
    "### Importing the libraries"
   ]
  },
  {
   "cell_type": "code",
   "execution_count": 1,
   "metadata": {},
   "outputs": [
    {
     "name": "stdout",
     "output_type": "stream",
     "text": [
      "Libraries imported.\n"
     ]
    }
   ],
   "source": [
    "import numpy as np # library to handle data in a vectorized manner\n",
    "\n",
    "import pandas as pd # library for data analsysis\n",
    "pd.set_option('display.max_columns', None)\n",
    "pd.set_option('display.max_rows', None)\n",
    "\n",
    "import json # library to handle JSON files\n",
    "from geopy.geocoders import Nominatim # convert an address into latitude and longitude values\n",
    "\n",
    "import requests # library to handle requests\n",
    "from pandas.io.json import json_normalize # tranform JSON file into a pandas dataframe\n",
    "\n",
    "# Matplotlib and associated plotting modules\n",
    "import matplotlib.cm as cm\n",
    "import matplotlib.colors as colors\n",
    "\n",
    "# import k-means from clustering stage\n",
    "from sklearn.cluster import KMeans\n",
    "\n",
    "import folium # map rendering library\n",
    "\n",
    "print('Libraries imported.')"
   ]
  },
  {
   "cell_type": "markdown",
   "metadata": {},
   "source": [
    "### loading the dataest"
   ]
  },
  {
   "cell_type": "code",
   "execution_count": 2,
   "metadata": {
    "scrolled": true
   },
   "outputs": [
    {
     "data": {
      "text/html": [
       "<div>\n",
       "<style scoped>\n",
       "    .dataframe tbody tr th:only-of-type {\n",
       "        vertical-align: middle;\n",
       "    }\n",
       "\n",
       "    .dataframe tbody tr th {\n",
       "        vertical-align: top;\n",
       "    }\n",
       "\n",
       "    .dataframe thead th {\n",
       "        text-align: right;\n",
       "    }\n",
       "</style>\n",
       "<table border=\"1\" class=\"dataframe\">\n",
       "  <thead>\n",
       "    <tr style=\"text-align: right;\">\n",
       "      <th></th>\n",
       "      <th>Postcode</th>\n",
       "      <th>Borough</th>\n",
       "      <th>Neighbourhood</th>\n",
       "    </tr>\n",
       "  </thead>\n",
       "  <tbody>\n",
       "    <tr>\n",
       "      <th>0</th>\n",
       "      <td>M1A</td>\n",
       "      <td>Not assigned</td>\n",
       "      <td>Not assigned</td>\n",
       "    </tr>\n",
       "    <tr>\n",
       "      <th>1</th>\n",
       "      <td>M1B</td>\n",
       "      <td>Scarborough</td>\n",
       "      <td>Rouge</td>\n",
       "    </tr>\n",
       "    <tr>\n",
       "      <th>2</th>\n",
       "      <td>M1B</td>\n",
       "      <td>Scarborough</td>\n",
       "      <td>Malvern</td>\n",
       "    </tr>\n",
       "    <tr>\n",
       "      <th>3</th>\n",
       "      <td>M1C</td>\n",
       "      <td>Scarborough</td>\n",
       "      <td>Highland Creek</td>\n",
       "    </tr>\n",
       "    <tr>\n",
       "      <th>4</th>\n",
       "      <td>M1C</td>\n",
       "      <td>Scarborough</td>\n",
       "      <td>Rouge Hill</td>\n",
       "    </tr>\n",
       "  </tbody>\n",
       "</table>\n",
       "</div>"
      ],
      "text/plain": [
       "  Postcode       Borough   Neighbourhood\n",
       "0      M1A  Not assigned    Not assigned\n",
       "1      M1B   Scarborough           Rouge\n",
       "2      M1B   Scarborough         Malvern\n",
       "3      M1C   Scarborough  Highland Creek\n",
       "4      M1C   Scarborough      Rouge Hill"
      ]
     },
     "execution_count": 2,
     "metadata": {},
     "output_type": "execute_result"
    }
   ],
   "source": [
    "data = pd.read_csv('postalcode_canada.csv')\n",
    "data.head()"
   ]
  },
  {
   "cell_type": "markdown",
   "metadata": {},
   "source": [
    "### Find the number of rows and colums of the dataset"
   ]
  },
  {
   "cell_type": "code",
   "execution_count": 3,
   "metadata": {},
   "outputs": [
    {
     "data": {
      "text/plain": [
       "(287, 3)"
      ]
     },
     "execution_count": 3,
     "metadata": {},
     "output_type": "execute_result"
    }
   ],
   "source": [
    "data.shape"
   ]
  },
  {
   "cell_type": "markdown",
   "metadata": {},
   "source": [
    "### Removing cells with non-assigned borough "
   ]
  },
  {
   "cell_type": "code",
   "execution_count": 4,
   "metadata": {},
   "outputs": [],
   "source": [
    "nonassigned = data[data['Borough']=='Not assigned'].index"
   ]
  },
  {
   "cell_type": "code",
   "execution_count": 5,
   "metadata": {},
   "outputs": [
    {
     "data": {
      "text/plain": [
       "Int64Index([  0,  38,  39,  40,  41,  42,  43,  44,  57,  58,  59,  60,  61,\n",
       "             62,  63,  68,  69,  80,  81,  82,  83,  84,  85,  86,  87,  88,\n",
       "            117, 157, 158, 187, 188, 189, 190, 191, 192, 194, 195, 196, 197,\n",
       "            198, 199, 200, 201, 202, 203, 204, 206, 207, 208, 209, 210, 212,\n",
       "            213, 214, 215, 216, 217, 218, 219, 220, 221, 222, 223, 224, 225,\n",
       "            226, 227, 259, 260, 261, 262, 263, 273, 274, 284, 285, 286],\n",
       "           dtype='int64')"
      ]
     },
     "execution_count": 5,
     "metadata": {},
     "output_type": "execute_result"
    }
   ],
   "source": [
    "nonassigned"
   ]
  },
  {
   "cell_type": "code",
   "execution_count": 6,
   "metadata": {
    "scrolled": true
   },
   "outputs": [
    {
     "data": {
      "text/html": [
       "<div>\n",
       "<style scoped>\n",
       "    .dataframe tbody tr th:only-of-type {\n",
       "        vertical-align: middle;\n",
       "    }\n",
       "\n",
       "    .dataframe tbody tr th {\n",
       "        vertical-align: top;\n",
       "    }\n",
       "\n",
       "    .dataframe thead th {\n",
       "        text-align: right;\n",
       "    }\n",
       "</style>\n",
       "<table border=\"1\" class=\"dataframe\">\n",
       "  <thead>\n",
       "    <tr style=\"text-align: right;\">\n",
       "      <th></th>\n",
       "      <th>Postcode</th>\n",
       "      <th>Borough</th>\n",
       "      <th>Neighbourhood</th>\n",
       "    </tr>\n",
       "  </thead>\n",
       "  <tbody>\n",
       "    <tr>\n",
       "      <th>1</th>\n",
       "      <td>M1B</td>\n",
       "      <td>Scarborough</td>\n",
       "      <td>Rouge</td>\n",
       "    </tr>\n",
       "    <tr>\n",
       "      <th>2</th>\n",
       "      <td>M1B</td>\n",
       "      <td>Scarborough</td>\n",
       "      <td>Malvern</td>\n",
       "    </tr>\n",
       "    <tr>\n",
       "      <th>3</th>\n",
       "      <td>M1C</td>\n",
       "      <td>Scarborough</td>\n",
       "      <td>Highland Creek</td>\n",
       "    </tr>\n",
       "    <tr>\n",
       "      <th>4</th>\n",
       "      <td>M1C</td>\n",
       "      <td>Scarborough</td>\n",
       "      <td>Rouge Hill</td>\n",
       "    </tr>\n",
       "    <tr>\n",
       "      <th>5</th>\n",
       "      <td>M1C</td>\n",
       "      <td>Scarborough</td>\n",
       "      <td>Port Union</td>\n",
       "    </tr>\n",
       "  </tbody>\n",
       "</table>\n",
       "</div>"
      ],
      "text/plain": [
       "  Postcode      Borough   Neighbourhood\n",
       "1      M1B  Scarborough           Rouge\n",
       "2      M1B  Scarborough         Malvern\n",
       "3      M1C  Scarborough  Highland Creek\n",
       "4      M1C  Scarborough      Rouge Hill\n",
       "5      M1C  Scarborough      Port Union"
      ]
     },
     "execution_count": 6,
     "metadata": {},
     "output_type": "execute_result"
    }
   ],
   "source": [
    "data.drop(nonassigned, inplace=True)\n",
    "data.head()"
   ]
  },
  {
   "cell_type": "markdown",
   "metadata": {},
   "source": [
    "### The number of rows and columns after removing rows where borough is not assigned"
   ]
  },
  {
   "cell_type": "code",
   "execution_count": 7,
   "metadata": {
    "scrolled": true
   },
   "outputs": [
    {
     "data": {
      "text/plain": [
       "(210, 3)"
      ]
     },
     "execution_count": 7,
     "metadata": {},
     "output_type": "execute_result"
    }
   ],
   "source": [
    "data.shape"
   ]
  },
  {
   "cell_type": "markdown",
   "metadata": {},
   "source": [
    "### Merging of rows in which the postal code are similar but with different neighborhood."
   ]
  },
  {
   "cell_type": "code",
   "execution_count": 8,
   "metadata": {
    "scrolled": true
   },
   "outputs": [
    {
     "data": {
      "text/html": [
       "<div>\n",
       "<style scoped>\n",
       "    .dataframe tbody tr th:only-of-type {\n",
       "        vertical-align: middle;\n",
       "    }\n",
       "\n",
       "    .dataframe tbody tr th {\n",
       "        vertical-align: top;\n",
       "    }\n",
       "\n",
       "    .dataframe thead th {\n",
       "        text-align: right;\n",
       "    }\n",
       "</style>\n",
       "<table border=\"1\" class=\"dataframe\">\n",
       "  <thead>\n",
       "    <tr style=\"text-align: right;\">\n",
       "      <th></th>\n",
       "      <th>Postcode</th>\n",
       "      <th>Borough</th>\n",
       "      <th>Neighbourhood</th>\n",
       "    </tr>\n",
       "  </thead>\n",
       "  <tbody>\n",
       "    <tr>\n",
       "      <th>0</th>\n",
       "      <td>M1B</td>\n",
       "      <td>Scarborough</td>\n",
       "      <td>Rouge, Malvern</td>\n",
       "    </tr>\n",
       "    <tr>\n",
       "      <th>1</th>\n",
       "      <td>M1C</td>\n",
       "      <td>Scarborough</td>\n",
       "      <td>Highland Creek, Rouge Hill, Port Union</td>\n",
       "    </tr>\n",
       "    <tr>\n",
       "      <th>2</th>\n",
       "      <td>M1E</td>\n",
       "      <td>Scarborough</td>\n",
       "      <td>Guildwood, Morningside, West Hill</td>\n",
       "    </tr>\n",
       "    <tr>\n",
       "      <th>3</th>\n",
       "      <td>M1G</td>\n",
       "      <td>Scarborough</td>\n",
       "      <td>Woburn</td>\n",
       "    </tr>\n",
       "    <tr>\n",
       "      <th>4</th>\n",
       "      <td>M1H</td>\n",
       "      <td>Scarborough</td>\n",
       "      <td>Cedarbrae</td>\n",
       "    </tr>\n",
       "  </tbody>\n",
       "</table>\n",
       "</div>"
      ],
      "text/plain": [
       "  Postcode      Borough                           Neighbourhood\n",
       "0      M1B  Scarborough                          Rouge, Malvern\n",
       "1      M1C  Scarborough  Highland Creek, Rouge Hill, Port Union\n",
       "2      M1E  Scarborough       Guildwood, Morningside, West Hill\n",
       "3      M1G  Scarborough                                  Woburn\n",
       "4      M1H  Scarborough                               Cedarbrae"
      ]
     },
     "execution_count": 8,
     "metadata": {},
     "output_type": "execute_result"
    }
   ],
   "source": [
    "df_code = data['Postcode'].unique()\n",
    "data.set_index('Postcode', drop=False, inplace=True)\n",
    "\n",
    "separator=', '\n",
    "for postcode in df_code:\n",
    "    df_tmp = data.loc[postcode]\n",
    "    if(df_tmp.size > 3):\n",
    "        neighbourhood = separator.join(df_tmp['Neighbourhood'])\n",
    "        data.loc[postcode, 'Neighbourhood'] = neighbourhood\n",
    "\n",
    "data.drop(data[data.Neighbourhood == 'Not assigned'].index, inplace=True)\n",
    "data.drop_duplicates('Postcode', inplace=True)\n",
    "data.reset_index(drop = True, inplace=True)\n",
    "data.head()"
   ]
  },
  {
   "cell_type": "code",
   "execution_count": 9,
   "metadata": {},
   "outputs": [
    {
     "data": {
      "text/plain": [
       "(103, 3)"
      ]
     },
     "execution_count": 9,
     "metadata": {},
     "output_type": "execute_result"
    }
   ],
   "source": [
    "data.shape"
   ]
  },
  {
   "cell_type": "markdown",
   "metadata": {},
   "source": [
    "### Loading geopspatial data"
   ]
  },
  {
   "cell_type": "code",
   "execution_count": 10,
   "metadata": {
    "scrolled": true
   },
   "outputs": [
    {
     "data": {
      "text/html": [
       "<div>\n",
       "<style scoped>\n",
       "    .dataframe tbody tr th:only-of-type {\n",
       "        vertical-align: middle;\n",
       "    }\n",
       "\n",
       "    .dataframe tbody tr th {\n",
       "        vertical-align: top;\n",
       "    }\n",
       "\n",
       "    .dataframe thead th {\n",
       "        text-align: right;\n",
       "    }\n",
       "</style>\n",
       "<table border=\"1\" class=\"dataframe\">\n",
       "  <thead>\n",
       "    <tr style=\"text-align: right;\">\n",
       "      <th></th>\n",
       "      <th>Postal Code</th>\n",
       "      <th>Latitude</th>\n",
       "      <th>Longitude</th>\n",
       "    </tr>\n",
       "  </thead>\n",
       "  <tbody>\n",
       "    <tr>\n",
       "      <th>0</th>\n",
       "      <td>M1B</td>\n",
       "      <td>43.806686</td>\n",
       "      <td>-79.194353</td>\n",
       "    </tr>\n",
       "    <tr>\n",
       "      <th>1</th>\n",
       "      <td>M1C</td>\n",
       "      <td>43.784535</td>\n",
       "      <td>-79.160497</td>\n",
       "    </tr>\n",
       "    <tr>\n",
       "      <th>2</th>\n",
       "      <td>M1E</td>\n",
       "      <td>43.763573</td>\n",
       "      <td>-79.188711</td>\n",
       "    </tr>\n",
       "    <tr>\n",
       "      <th>3</th>\n",
       "      <td>M1G</td>\n",
       "      <td>43.770992</td>\n",
       "      <td>-79.216917</td>\n",
       "    </tr>\n",
       "    <tr>\n",
       "      <th>4</th>\n",
       "      <td>M1H</td>\n",
       "      <td>43.773136</td>\n",
       "      <td>-79.239476</td>\n",
       "    </tr>\n",
       "  </tbody>\n",
       "</table>\n",
       "</div>"
      ],
      "text/plain": [
       "  Postal Code   Latitude  Longitude\n",
       "0         M1B  43.806686 -79.194353\n",
       "1         M1C  43.784535 -79.160497\n",
       "2         M1E  43.763573 -79.188711\n",
       "3         M1G  43.770992 -79.216917\n",
       "4         M1H  43.773136 -79.239476"
      ]
     },
     "execution_count": 10,
     "metadata": {},
     "output_type": "execute_result"
    }
   ],
   "source": [
    "geodata = pd.read_csv('Geospatial_Coordinates.csv')\n",
    "geodata.head()"
   ]
  },
  {
   "cell_type": "markdown",
   "metadata": {},
   "source": [
    "### Merging the two datasets"
   ]
  },
  {
   "cell_type": "code",
   "execution_count": 11,
   "metadata": {},
   "outputs": [
    {
     "data": {
      "text/html": [
       "<div>\n",
       "<style scoped>\n",
       "    .dataframe tbody tr th:only-of-type {\n",
       "        vertical-align: middle;\n",
       "    }\n",
       "\n",
       "    .dataframe tbody tr th {\n",
       "        vertical-align: top;\n",
       "    }\n",
       "\n",
       "    .dataframe thead th {\n",
       "        text-align: right;\n",
       "    }\n",
       "</style>\n",
       "<table border=\"1\" class=\"dataframe\">\n",
       "  <thead>\n",
       "    <tr style=\"text-align: right;\">\n",
       "      <th></th>\n",
       "      <th>Postcode</th>\n",
       "      <th>Latitude</th>\n",
       "      <th>Longitude</th>\n",
       "    </tr>\n",
       "  </thead>\n",
       "  <tbody>\n",
       "    <tr>\n",
       "      <th>0</th>\n",
       "      <td>M1B</td>\n",
       "      <td>43.806686</td>\n",
       "      <td>-79.194353</td>\n",
       "    </tr>\n",
       "    <tr>\n",
       "      <th>1</th>\n",
       "      <td>M1C</td>\n",
       "      <td>43.784535</td>\n",
       "      <td>-79.160497</td>\n",
       "    </tr>\n",
       "    <tr>\n",
       "      <th>2</th>\n",
       "      <td>M1E</td>\n",
       "      <td>43.763573</td>\n",
       "      <td>-79.188711</td>\n",
       "    </tr>\n",
       "    <tr>\n",
       "      <th>3</th>\n",
       "      <td>M1G</td>\n",
       "      <td>43.770992</td>\n",
       "      <td>-79.216917</td>\n",
       "    </tr>\n",
       "    <tr>\n",
       "      <th>4</th>\n",
       "      <td>M1H</td>\n",
       "      <td>43.773136</td>\n",
       "      <td>-79.239476</td>\n",
       "    </tr>\n",
       "  </tbody>\n",
       "</table>\n",
       "</div>"
      ],
      "text/plain": [
       "  Postcode   Latitude  Longitude\n",
       "0      M1B  43.806686 -79.194353\n",
       "1      M1C  43.784535 -79.160497\n",
       "2      M1E  43.763573 -79.188711\n",
       "3      M1G  43.770992 -79.216917\n",
       "4      M1H  43.773136 -79.239476"
      ]
     },
     "execution_count": 11,
     "metadata": {},
     "output_type": "execute_result"
    }
   ],
   "source": [
    "geodf = geodata.rename(columns = {'Postal Code': 'Postcode'})\n",
    "geodf.head()"
   ]
  },
  {
   "cell_type": "code",
   "execution_count": 12,
   "metadata": {},
   "outputs": [
    {
     "data": {
      "text/html": [
       "<div>\n",
       "<style scoped>\n",
       "    .dataframe tbody tr th:only-of-type {\n",
       "        vertical-align: middle;\n",
       "    }\n",
       "\n",
       "    .dataframe tbody tr th {\n",
       "        vertical-align: top;\n",
       "    }\n",
       "\n",
       "    .dataframe thead th {\n",
       "        text-align: right;\n",
       "    }\n",
       "</style>\n",
       "<table border=\"1\" class=\"dataframe\">\n",
       "  <thead>\n",
       "    <tr style=\"text-align: right;\">\n",
       "      <th></th>\n",
       "      <th>Postcode</th>\n",
       "      <th>Borough</th>\n",
       "      <th>Neighbourhood</th>\n",
       "      <th>Latitude</th>\n",
       "      <th>Longitude</th>\n",
       "    </tr>\n",
       "  </thead>\n",
       "  <tbody>\n",
       "    <tr>\n",
       "      <th>0</th>\n",
       "      <td>M1B</td>\n",
       "      <td>Scarborough</td>\n",
       "      <td>Rouge, Malvern</td>\n",
       "      <td>43.806686</td>\n",
       "      <td>-79.194353</td>\n",
       "    </tr>\n",
       "    <tr>\n",
       "      <th>1</th>\n",
       "      <td>M1C</td>\n",
       "      <td>Scarborough</td>\n",
       "      <td>Highland Creek, Rouge Hill, Port Union</td>\n",
       "      <td>43.784535</td>\n",
       "      <td>-79.160497</td>\n",
       "    </tr>\n",
       "    <tr>\n",
       "      <th>2</th>\n",
       "      <td>M1E</td>\n",
       "      <td>Scarborough</td>\n",
       "      <td>Guildwood, Morningside, West Hill</td>\n",
       "      <td>43.763573</td>\n",
       "      <td>-79.188711</td>\n",
       "    </tr>\n",
       "    <tr>\n",
       "      <th>3</th>\n",
       "      <td>M1G</td>\n",
       "      <td>Scarborough</td>\n",
       "      <td>Woburn</td>\n",
       "      <td>43.770992</td>\n",
       "      <td>-79.216917</td>\n",
       "    </tr>\n",
       "    <tr>\n",
       "      <th>4</th>\n",
       "      <td>M1H</td>\n",
       "      <td>Scarborough</td>\n",
       "      <td>Cedarbrae</td>\n",
       "      <td>43.773136</td>\n",
       "      <td>-79.239476</td>\n",
       "    </tr>\n",
       "  </tbody>\n",
       "</table>\n",
       "</div>"
      ],
      "text/plain": [
       "  Postcode      Borough                           Neighbourhood   Latitude  \\\n",
       "0      M1B  Scarborough                          Rouge, Malvern  43.806686   \n",
       "1      M1C  Scarborough  Highland Creek, Rouge Hill, Port Union  43.784535   \n",
       "2      M1E  Scarborough       Guildwood, Morningside, West Hill  43.763573   \n",
       "3      M1G  Scarborough                                  Woburn  43.770992   \n",
       "4      M1H  Scarborough                               Cedarbrae  43.773136   \n",
       "\n",
       "   Longitude  \n",
       "0 -79.194353  \n",
       "1 -79.160497  \n",
       "2 -79.188711  \n",
       "3 -79.216917  \n",
       "4 -79.239476  "
      ]
     },
     "execution_count": 12,
     "metadata": {},
     "output_type": "execute_result"
    }
   ],
   "source": [
    "dataset = pd.merge(data,geodf, on = 'Postcode')\n",
    "dataset.head()"
   ]
  },
  {
   "cell_type": "code",
   "execution_count": 13,
   "metadata": {},
   "outputs": [
    {
     "data": {
      "text/plain": [
       "(103, 5)"
      ]
     },
     "execution_count": 13,
     "metadata": {},
     "output_type": "execute_result"
    }
   ],
   "source": [
    "dataset.shape"
   ]
  },
  {
   "cell_type": "markdown",
   "metadata": {},
   "source": [
    "### Getting the latitudes and longitudes of Toronto using geopy library"
   ]
  },
  {
   "cell_type": "code",
   "execution_count": 14,
   "metadata": {},
   "outputs": [
    {
     "name": "stdout",
     "output_type": "stream",
     "text": [
      "The geograpical coordinate of Toronto are 43.653963, -79.387207.\n"
     ]
    }
   ],
   "source": [
    "address = 'Toronto'\n",
    "\n",
    "geolocator = Nominatim(user_agent=\"tr_explorer\")\n",
    "location = geolocator.geocode(address)\n",
    "latitude = location.latitude\n",
    "longitude = location.longitude\n",
    "print('The geograpical coordinate of Toronto are {}, {}.'.format(latitude, longitude))"
   ]
  },
  {
   "cell_type": "markdown",
   "metadata": {},
   "source": [
    "### Create a map of Toronto with neighborhoods superimposed on top."
   ]
  },
  {
   "cell_type": "code",
   "execution_count": 15,
   "metadata": {},
   "outputs": [
    {
     "data": {
      "text/html": [
       "<div style=\"width:100%;\"><div style=\"position:relative;width:100%;height:0;padding-bottom:60%;\"><iframe src=\"data:text/html;charset=utf-8;base64,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\" style=\"position:absolute;width:100%;height:100%;left:0;top:0;border:none !important;\" allowfullscreen webkitallowfullscreen mozallowfullscreen></iframe></div></div>"
      ],
      "text/plain": [
       "<folium.folium.Map at 0x1f122c0aac8>"
      ]
     },
     "execution_count": 15,
     "metadata": {},
     "output_type": "execute_result"
    }
   ],
   "source": [
    "# create map of toronto using latitude and longitude values\n",
    "map_toronto = folium.Map(location=[latitude, longitude], zoom_start=10)\n",
    "\n",
    "# add markers to map\n",
    "for lat, lng, borough, dataset in zip(dataset['Latitude'], dataset['Longitude'], dataset['Borough'], dataset['Neighbourhood']):\n",
    "    label = '{}, {}'.format(dataset, borough)\n",
    "    label = folium.Popup(label, parse_html=True)\n",
    "    folium.CircleMarker(\n",
    "        [lat, lng],\n",
    "        radius=5,\n",
    "        popup=label,\n",
    "        color='blue',\n",
    "        fill=True,\n",
    "        fill_color='#3186cc',\n",
    "        fill_opacity=0.7,\n",
    "        parse_html=False).add_to(map_toronto)  \n",
    "    \n",
    "map_toronto"
   ]
  }
 ],
 "metadata": {
  "kernelspec": {
   "display_name": "Python 3",
   "language": "python",
   "name": "python3"
  },
  "language_info": {
   "codemirror_mode": {
    "name": "ipython",
    "version": 3
   },
   "file_extension": ".py",
   "mimetype": "text/x-python",
   "name": "python",
   "nbconvert_exporter": "python",
   "pygments_lexer": "ipython3",
   "version": "3.6.5"
  }
 },
 "nbformat": 4,
 "nbformat_minor": 2
}
